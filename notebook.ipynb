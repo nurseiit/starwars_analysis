{
 "cells": [
  {
   "cell_type": "markdown",
   "metadata": {},
   "source": [
    "# Analysing Star Wars\n",
    "\n",
    "by `Nurseiit Abdimomyn`\n",
    "\n",
    "id `20172001`\n",
    "\n",
    "at `nurs@unist.ac.kr`"
   ]
  },
  {
   "cell_type": "code",
   "execution_count": 1,
   "metadata": {},
   "outputs": [],
   "source": [
    "import csv # here we go again :P\n",
    "import networkx as nx\n",
    "from operator import itemgetter\n",
    "import matplotlib.pyplot as plt\n",
    "%matplotlib inline"
   ]
  },
  {
   "cell_type": "code",
   "execution_count": 2,
   "metadata": {},
   "outputs": [],
   "source": [
    "# all episodes\n",
    "episodes = {}\n",
    "\n",
    "for i in range(1, 7):\n",
    "    with open('data/StarWars_ep%d.csv' % i, 'r') as f:\n",
    "        reader = csv.reader(f)\n",
    "        ep = [event for event in reader][1:] # ignore header\n",
    "        episodes[i] = ep"
   ]
  },
  {
   "cell_type": "code",
   "execution_count": 3,
   "metadata": {},
   "outputs": [],
   "source": [
    "AKA = {\n",
    "    'EMPEROR': 'PALPATINE',\n",
    "    'DARTH SIDIOUS': 'PALPATINE',\n",
    "    'PALAPATINE': 'PALPATINE',\n",
    "    'BOUSHH': 'LEIA',\n",
    "    'ACKBAR ': 'ACKBAR',\n",
    "    'DARTH VADER': 'ANAKIN',\n",
    "    'VADER': 'ANAKIN',\n",
    "    'ANAKN': 'ANAKIN',\n",
    "    'ANAKNI': 'ANAKIN',\n",
    "    'ANKAIN': 'ANAKIN',\n",
    "    'ANAKINN': 'ANAKIN',\n",
    "    'HAN/PILOT': 'HAN',\n",
    "    'LUKE\\'S VOICE': 'LUKE',\n",
    "    'LURE': 'LUKE',\n",
    "    'QUI -GON': 'QUI-GON',\n",
    "    'QU-IG0N': 'QUI-GON',\n",
    "    'GUI-GON': 'QUI-GON',\n",
    "    'THREEPIO': 'C-3PO',\n",
    "    'G-3PO': 'C-3PO',\n",
    "    'PADMÉ': 'PADME',\n",
    "    'PAMDE': 'PADME',\n",
    "    'CAPTAIN PANAKA': 'CAPT. PANAKA',\n",
    "    'AUNT BERU': 'BERU',\n",
    "    'MAD AMEDDA': 'MAS AMEDDA',\n",
    "    'PR-4': 'PK-4',\n",
    "    'TC14': 'TC-14',\n",
    "    'BEN\\'S VOICE': 'BEN',\n",
    "    'RED LEADER\\'S VOICE': 'RED LEADER',\n",
    "    'READ LEADER': 'RED LEADER',\n",
    "    'RED TEN\\'S VOICE': 'RED TEN',\n",
    "    'RED NINE\\'S VOICE': 'RED NINE',\n",
    "    'WINGMAN\\'S VOICE': 'WINGMAN',\n",
    "    'BERU (V.O.)': 'BERU',\n",
    "    'BOBA': 'BOBA FETT',\n",
    "    'JANGO': 'JANGO FETT',\n",
    "    'CLIEGG (O.S.)': 'CLIEGG',\n",
    "    'ZAM': 'ZAM WESSEL'\n",
    "}\n",
    "\n",
    "invalid_names = ['FADE OUT:', 'THE END']\n",
    "\n",
    "def normalise_names(_episode):\n",
    "    episode = []\n",
    "    for event in _episode:\n",
    "        actor = event[5]\n",
    "        if actor in AKA:\n",
    "            actor = event[5] = AKA[actor]\n",
    "        if actor in invalid_names:\n",
    "            continue\n",
    "        episode.append(event)\n",
    "    return episode"
   ]
  },
  {
   "cell_type": "code",
   "execution_count": 4,
   "metadata": {},
   "outputs": [],
   "source": [
    "def statistics(episode, ep_str):\n",
    "    episode = normalise_names(episode)\n",
    "    \n",
    "    scenes = {}\n",
    "    actors = {}\n",
    "\n",
    "    for event in episode:\n",
    "        sequence = int(event[2])\n",
    "        scenes[sequence] = int(event[1])\n",
    "        actors[sequence] = event[5]\n",
    "        \n",
    "    all_actors = list(set([actor[1] for actor in actors.items()]))\n",
    "    all_scenes = list(set([scene[1] for scene in scenes.items()]))\n",
    "\n",
    "    scenes_with_actors = {}\n",
    "\n",
    "    for sequence, scene in scenes.items():\n",
    "        actor = actors[sequence]\n",
    "        if scene not in scenes_with_actors:\n",
    "            scenes_with_actors[scene] = set()\n",
    "        scenes_with_actors[scene].add(actor)\n",
    "\n",
    "    actor_edges = []\n",
    "    for i in scenes_with_actors:\n",
    "        for _to in scenes_with_actors[i]:\n",
    "            for _from in scenes_with_actors[i]:\n",
    "                if _to != _from:\n",
    "                    actor_edges.append((_from, _to))\n",
    "\n",
    "    actor_edges = list(set(actor_edges))\n",
    "    \n",
    "    Q = nx.Graph()\n",
    "    Q.add_nodes_from(all_actors)\n",
    "    Q.add_edges_from(actor_edges)\n",
    "    \n",
    "    betweennes = nx.betweenness_centrality(Q)\n",
    "    sorted_betweennes = sorted(betweennes.items(), key=itemgetter(1), reverse=True)\n",
    "    \n",
    "    sorted_degree = sorted(Q.degree(), key=itemgetter(1), reverse=True)\n",
    "    \n",
    "    average_clustering = nx.average_clustering(Q)\n",
    "    \n",
    "    print('Episode %s' % ep_str)\n",
    "    print(nx.info(Q))\n",
    "    print('Top 5 by Betweennes:\\n', sorted_betweennes[:5])\n",
    "    print('Top 5 by Degree:\\n', sorted_degree[:5])\n",
    "    print('Average Clustering: ', average_clustering)\n",
    "    print('Density: ', nx.density(Q))"
   ]
  },
  {
   "cell_type": "code",
   "execution_count": 5,
   "metadata": {},
   "outputs": [
    {
     "name": "stdout",
     "output_type": "stream",
     "text": [
      "Episode VI\n",
      "Name: \n",
      "Type: Graph\n",
      "Number of nodes: 45\n",
      "Number of edges: 109\n",
      "Average degree:   4.8444\n",
      "Top 5 by Betweennes:\n",
      " [('LANDO', 0.2677059022724984), ('LUKE', 0.213659930626104), ('C-3PO', 0.13529991854516166), ('HAN', 0.10522592277349146), ('LEIA', 0.08693839634643016)]\n",
      "Top 5 by Degree:\n",
      " [('LANDO', 19), ('LUKE', 16), ('C-3PO', 16), ('LEIA', 15), ('HAN', 14)]\n",
      "Average Clustering:  0.546926280347333\n",
      "Density:  0.1101010101010101\n"
     ]
    }
   ],
   "source": [
    "statistics(episodes[6], 'VI')"
   ]
  }
 ],
 "metadata": {
  "kernelspec": {
   "display_name": "Python 3",
   "language": "python",
   "name": "python3"
  },
  "language_info": {
   "codemirror_mode": {
    "name": "ipython",
    "version": 3
   },
   "file_extension": ".py",
   "mimetype": "text/x-python",
   "name": "python",
   "nbconvert_exporter": "python",
   "pygments_lexer": "ipython3",
   "version": "3.7.6"
  }
 },
 "nbformat": 4,
 "nbformat_minor": 4
}
