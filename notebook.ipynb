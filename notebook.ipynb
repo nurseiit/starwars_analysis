{
 "cells": [
  {
   "cell_type": "markdown",
   "metadata": {},
   "source": [
    "# Analysing Star Wars\n",
    "\n",
    "by `Nurseiit Abdimomyn`\n",
    "\n",
    "id `20172001`\n",
    "\n",
    "at `nurs@unist.ac.kr`"
   ]
  },
  {
   "cell_type": "code",
   "execution_count": 1,
   "metadata": {},
   "outputs": [],
   "source": [
    "import csv # here we go again :P\n",
    "import networkx as nx\n",
    "from operator import itemgetter\n",
    "import matplotlib.pyplot as plt\n",
    "%matplotlib inline"
   ]
  },
  {
   "cell_type": "code",
   "execution_count": 2,
   "metadata": {},
   "outputs": [],
   "source": [
    "# all episodes\n",
    "episodes = {}\n",
    "\n",
    "for i in range(1, 7):\n",
    "    with open('data/StarWars_ep%d.csv' % i, 'r') as f:\n",
    "        reader = csv.reader(f)\n",
    "        ep = [event for event in reader][1:] # ignore header\n",
    "        episodes[i] = ep"
   ]
  },
  {
   "cell_type": "code",
   "execution_count": 3,
   "metadata": {},
   "outputs": [],
   "source": [
    "AKA = {\n",
    "    'EMPEROR': 'PALPATINE',\n",
    "    'DARTH SIDIOUS': 'PALPATINE',\n",
    "    'PALAPATINE': 'PALPATINE',\n",
    "    'BOUSHH': 'LEIA',\n",
    "    'ACKBAR ': 'ACKBAR',\n",
    "    'DARTH VADER': 'ANAKIN',\n",
    "    'VADER': 'ANAKIN',\n",
    "    'ANAKN': 'ANAKIN',\n",
    "    'ANAKNI': 'ANAKIN',\n",
    "    'ANKAIN': 'ANAKIN',\n",
    "    'ANAKINN': 'ANAKIN',\n",
    "    'HAN/PILOT': 'HAN',\n",
    "    'LUKE\\'S VOICE': 'LUKE',\n",
    "    'LURE': 'LUKE',\n",
    "    'QUI -GON': 'QUI-GON',\n",
    "    'QU-IG0N': 'QUI-GON',\n",
    "    'GUI-GON': 'QUI-GON',\n",
    "    'THREEPIO': 'C-3PO',\n",
    "    'G-3PO': 'C-3PO',\n",
    "    'PADMÉ': 'PADME',\n",
    "    'PAMDE': 'PADME',\n",
    "    'CAPTAIN PANAKA': 'CAPT. PANAKA',\n",
    "    'AUNT BERU': 'BERU',\n",
    "    'MAD AMEDDA': 'MAS AMEDDA',\n",
    "    'PR-4': 'PK-4',\n",
    "    'TC14': 'TC-14',\n",
    "    'BEN\\'S VOICE': 'BEN',\n",
    "    'RED LEADER\\'S VOICE': 'RED LEADER',\n",
    "    'READ LEADER': 'RED LEADER',\n",
    "    'RED TEN\\'S VOICE': 'RED TEN',\n",
    "    'RED NINE\\'S VOICE': 'RED NINE',\n",
    "    'WINGMAN\\'S VOICE': 'WINGMAN',\n",
    "    'BERU (V.O.)': 'BERU',\n",
    "    'BOBA': 'BOBA FETT',\n",
    "    'JANGO': 'JANGO FETT',\n",
    "    'CLIEGG (O.S.)': 'CLIEGG',\n",
    "    'ZAM': 'ZAM WESSEL'\n",
    "}\n",
    "\n",
    "invalid_names = ['FADE OUT:', 'THE END']\n",
    "\n",
    "def normalise_names(_episode):\n",
    "    episode = []\n",
    "    for event in _episode:\n",
    "        actor = event[5]\n",
    "        if actor in AKA:\n",
    "            actor = event[5] = AKA[actor]\n",
    "        if actor in invalid_names:\n",
    "            continue\n",
    "        episode.append(event)\n",
    "    return episode"
   ]
  },
  {
   "cell_type": "code",
   "execution_count": 4,
   "metadata": {},
   "outputs": [],
   "source": [
    "def statistics(episode, ep_str):\n",
    "    episode = normalise_names(episode)\n",
    "    \n",
    "    scenes = {}\n",
    "    actors = {}\n",
    "\n",
    "    for event in episode:\n",
    "        sequence = int(event[2])\n",
    "        scenes[sequence] = int(event[1])\n",
    "        actors[sequence] = event[5]\n",
    "        \n",
    "    all_actors = list(set([actor[1] for actor in actors.items()]))\n",
    "    all_scenes = list(set([scene[1] for scene in scenes.items()]))\n",
    "\n",
    "    scenes_with_actors = {}\n",
    "\n",
    "    for sequence, scene in scenes.items():\n",
    "        actor = actors[sequence]\n",
    "        if scene not in scenes_with_actors:\n",
    "            scenes_with_actors[scene] = set()\n",
    "        scenes_with_actors[scene].add(actor)\n",
    "\n",
    "    actor_edges = []\n",
    "    for i in scenes_with_actors:\n",
    "        for _to in scenes_with_actors[i]:\n",
    "            for _from in scenes_with_actors[i]:\n",
    "                if _to != _from:\n",
    "                    actor_edges.append((_from, _to))\n",
    "\n",
    "    actor_edges = list(set(actor_edges))\n",
    "    \n",
    "    Q = nx.Graph()\n",
    "    Q.add_nodes_from(all_actors)\n",
    "    Q.add_edges_from(actor_edges)\n",
    "    \n",
    "    betweennes = nx.betweenness_centrality(Q)\n",
    "    sorted_betweennes = sorted(betweennes.items(), key=itemgetter(1), reverse=True)\n",
    "    \n",
    "    sorted_degree = sorted(Q.degree(), key=itemgetter(1), reverse=True)\n",
    "    \n",
    "    average_clustering = nx.average_clustering(Q)\n",
    "    \n",
    "    print('Episode %s' % ep_str)\n",
    "    print(nx.info(Q))\n",
    "    print('Top 5 by Betweennes:\\n', sorted_betweennes[:5])\n",
    "    print('Top 5 by Degree:\\n', sorted_degree[:5])\n",
    "    print('Average Clustering: ', average_clustering)\n",
    "    print('Density: ', nx.density(Q))"
   ]
  },
  {
   "cell_type": "code",
   "execution_count": 6,
   "metadata": {},
   "outputs": [
    {
     "name": "stdout",
     "output_type": "stream",
     "text": [
      "Episode I\n",
      "Name: \n",
      "Type: Graph\n",
      "Number of nodes: 61\n",
      "Number of edges: 221\n",
      "Average degree:   7.2459\n",
      "Top 5 by Betweennes:\n",
      " [('QUI-GON', 0.28706958923060616), ('ANAKIN', 0.16576299406807876), ('AMIDALA', 0.16325085303898865), ('JAR JAR', 0.1566198090986227), ('PADME', 0.11644378299039317)]\n",
      "Top 5 by Degree:\n",
      " [('QUI-GON', 35), ('ANAKIN', 29), ('JAR JAR', 24), ('AMIDALA', 23), ('PADME', 20)]\n",
      "Average Clustering:  0.7606364098085769\n",
      "Density:  0.12076502732240438\n"
     ]
    }
   ],
   "source": [
    "statistics(episodes[1], 'I')"
   ]
  },
  {
   "cell_type": "code",
   "execution_count": 10,
   "metadata": {},
   "outputs": [
    {
     "name": "stdout",
     "output_type": "stream",
     "text": [
      "Episode II\n",
      "Name: \n",
      "Type: Graph\n",
      "Number of nodes: 61\n",
      "Number of edges: 204\n",
      "Average degree:   6.6885\n",
      "Top 5 by Betweennes:\n",
      " [('OBI-WAN', 0.3829453550216262), ('PADME', 0.3263046087622359), ('ANAKIN', 0.23107680925477533), ('YODA', 0.09360567869042448), ('MACE WINDU', 0.050818484716789784)]\n",
      "Top 5 by Degree:\n",
      " [('PADME', 38), ('OBI-WAN', 35), ('ANAKIN', 31), ('YODA', 21), ('MACE WINDU', 16)]\n",
      "Average Clustering:  0.7896364012977173\n",
      "Density:  0.11147540983606558\n"
     ]
    }
   ],
   "source": [
    "statistics(episodes[2], 'II')"
   ]
  },
  {
   "cell_type": "code",
   "execution_count": 11,
   "metadata": {},
   "outputs": [
    {
     "name": "stdout",
     "output_type": "stream",
     "text": [
      "Episode IV\n",
      "Name: \n",
      "Type: Graph\n",
      "Number of nodes: 59\n",
      "Number of edges: 140\n",
      "Average degree:   4.7458\n",
      "Top 5 by Betweennes:\n",
      " [('LUKE', 0.27923187530002896), ('LEIA', 0.15895431254586856), ('ANAKIN', 0.14454855882523288), ('C-3PO', 0.08336743144389529), ('TROOPER', 0.07856534515957576)]\n",
      "Top 5 by Degree:\n",
      " [('LUKE', 28), ('C-3PO', 18), ('LEIA', 16), ('ANAKIN', 16), ('BEN', 13)]\n",
      "Average Clustering:  0.5006791950710195\n",
      "Density:  0.08182349503214495\n"
     ]
    }
   ],
   "source": [
    "statistics(episodes[4], 'IV')"
   ]
  },
  {
   "cell_type": "code",
   "execution_count": 12,
   "metadata": {},
   "outputs": [
    {
     "name": "stdout",
     "output_type": "stream",
     "text": [
      "Episode V\n",
      "Name: \n",
      "Type: Graph\n",
      "Number of nodes: 49\n",
      "Number of edges: 108\n",
      "Average degree:   4.4082\n",
      "Top 5 by Betweennes:\n",
      " [('ANAKIN', 0.2924159912191827), ('LUKE', 0.27472982100641674), ('HAN', 0.17043439716312053), ('C-3PO', 0.1425384160756501), ('LEIA', 0.11263297872340423)]\n",
      "Top 5 by Degree:\n",
      " [('HAN', 18), ('C-3PO', 17), ('LUKE', 16), ('LEIA', 15), ('ANAKIN', 15)]\n",
      "Average Clustering:  0.5530159682920788\n",
      "Density:  0.09183673469387756\n"
     ]
    }
   ],
   "source": [
    "statistics(episodes[5], 'V')"
   ]
  }
 ],
 "metadata": {
  "kernelspec": {
   "display_name": "Python 3",
   "language": "python",
   "name": "python3"
  },
  "language_info": {
   "codemirror_mode": {
    "name": "ipython",
    "version": 3
   },
   "file_extension": ".py",
   "mimetype": "text/x-python",
   "name": "python",
   "nbconvert_exporter": "python",
   "pygments_lexer": "ipython3",
   "version": "3.7.6"
  }
 },
 "nbformat": 4,
 "nbformat_minor": 4
}
